{
  "nbformat": 4,
  "nbformat_minor": 0,
  "metadata": {
    "kernelspec": {
      "display_name": "Python 3",
      "language": "python",
      "name": "python3"
    },
    "language_info": {
      "codemirror_mode": {
        "name": "ipython",
        "version": 3
      },
      "file_extension": ".py",
      "mimetype": "text/x-python",
      "name": "python",
      "nbconvert_exporter": "python",
      "pygments_lexer": "ipython3",
      "version": "3.7.0"
    },
    "colab": {
      "name": "movie_reviews.ipynb",
      "provenance": [],
      "include_colab_link": true
    }
  },
  "cells": [
    {
      "cell_type": "markdown",
      "metadata": {
        "id": "view-in-github",
        "colab_type": "text"
      },
      "source": [
        "<a href=\"https://colab.research.google.com/github/pchelkas/movie_reviews/blob/master/movie_reviews.ipynb\" target=\"_parent\"><img src=\"https://colab.research.google.com/assets/colab-badge.svg\" alt=\"Open In Colab\"/></a>"
      ]
    },
    {
      "cell_type": "code",
      "metadata": {
        "id": "p9W17xJw98et",
        "colab_type": "code",
        "colab": {}
      },
      "source": [
        "import numpy as np\n",
        "import pandas as pd\n",
        "\n",
        "\n",
        "df = pd.read_csv('output.csv')\n"
      ],
      "execution_count": 0,
      "outputs": []
    },
    {
      "cell_type": "code",
      "metadata": {
        "id": "4ppnWjc598gY",
        "colab_type": "code",
        "colab": {},
        "outputId": "f08973aa-ac5d-4d61-c53a-bab9f0cd4f12"
      },
      "source": [
        "from sklearn.model_selection import train_test_split\n",
        "for row in df:\n",
        "    sentiment = 2\n",
        "\n",
        "    if row['target'] == 'bad':\n",
        "        sentiment = -1\n",
        "    elif row['target'] == 'neutral':\n",
        "        sentiment = 0\n",
        "    else:\n",
        "        sentiment = 1\n",
        "\n",
        "    if sentiment == 2:\n",
        "        continue\n",
        "\n",
        "    x.append(row['review_text'])\n",
        "    y.append(sentiment)\n",
        "        \n",
        "        \n",
        "X_train, X_test, y_train, y_test = train_test_split(x, y, test_size=0.2, random_state=42)"
      ],
      "execution_count": 0,
      "outputs": [
        {
          "output_type": "error",
          "ename": "TypeError",
          "evalue": "string indices must be integers",
          "traceback": [
            "\u001b[0;31m---------------------------------------------------------------------------\u001b[0m",
            "\u001b[0;31mTypeError\u001b[0m                                 Traceback (most recent call last)",
            "\u001b[0;32m<ipython-input-5-93106d0ebf44>\u001b[0m in \u001b[0;36m<module>\u001b[0;34m\u001b[0m\n\u001b[1;32m      3\u001b[0m     \u001b[0msentiment\u001b[0m \u001b[0;34m=\u001b[0m \u001b[0;36m2\u001b[0m\u001b[0;34m\u001b[0m\u001b[0m\n\u001b[1;32m      4\u001b[0m \u001b[0;34m\u001b[0m\u001b[0m\n\u001b[0;32m----> 5\u001b[0;31m     \u001b[0;32mif\u001b[0m \u001b[0mrow\u001b[0m\u001b[0;34m[\u001b[0m\u001b[0;34m'target'\u001b[0m\u001b[0;34m]\u001b[0m \u001b[0;34m==\u001b[0m \u001b[0;34m'bad'\u001b[0m\u001b[0;34m:\u001b[0m\u001b[0;34m\u001b[0m\u001b[0m\n\u001b[0m\u001b[1;32m      6\u001b[0m         \u001b[0msentiment\u001b[0m \u001b[0;34m=\u001b[0m \u001b[0;34m-\u001b[0m\u001b[0;36m1\u001b[0m\u001b[0;34m\u001b[0m\u001b[0m\n\u001b[1;32m      7\u001b[0m     \u001b[0;32melif\u001b[0m \u001b[0mrow\u001b[0m\u001b[0;34m[\u001b[0m\u001b[0;34m'target'\u001b[0m\u001b[0;34m]\u001b[0m \u001b[0;34m==\u001b[0m \u001b[0;34m'neutral'\u001b[0m\u001b[0;34m:\u001b[0m\u001b[0;34m\u001b[0m\u001b[0m\n",
            "\u001b[0;31mTypeError\u001b[0m: string indices must be integers"
          ]
        }
      ]
    },
    {
      "cell_type": "code",
      "metadata": {
        "id": "TGwWK0z498hC",
        "colab_type": "code",
        "colab": {}
      },
      "source": [
        "data_positive = df[df['target'] == 'good']['review_text']\n",
        "data_neutral = df[df['target'] == 'neutral']['review_text']\n",
        "data_negative = df[df['target'] == 'bad']['review_text']"
      ],
      "execution_count": 0,
      "outputs": []
    },
    {
      "cell_type": "code",
      "metadata": {
        "id": "6Q7pr56t98iK",
        "colab_type": "code",
        "colab": {}
      },
      "source": [
        "sample_size = min(data_positive.shape[0], data_negative.shape[0], data_neutral.shape[0])\n",
        "\n",
        "raw_data = np.concatenate((data_positive.values[:sample_size],\n",
        "                           data_negative.values[:sample_size], data_neutral.values[:sample_size]), axis=0)"
      ],
      "execution_count": 0,
      "outputs": []
    },
    {
      "cell_type": "code",
      "metadata": {
        "id": "73NuygMZ98i2",
        "colab_type": "code",
        "colab": {}
      },
      "source": [
        "labels = [1] * sample_size + [-1] * sample_size + [0] * sample_size"
      ],
      "execution_count": 0,
      "outputs": []
    },
    {
      "cell_type": "code",
      "metadata": {
        "id": "EW8RZSOy98jF",
        "colab_type": "code",
        "colab": {}
      },
      "source": [
        "from sklearn.model_selection import train_test_split\n",
        "\n",
        "X_train, X_test, y_train, y_test = train_test_split(raw_data, labels, test_size=0.2, random_state=42)"
      ],
      "execution_count": 0,
      "outputs": []
    },
    {
      "cell_type": "code",
      "metadata": {
        "id": "BF0P99Za98jQ",
        "colab_type": "code",
        "colab": {},
        "outputId": "702ebfcf-1f0d-4d24-ae03-6f6b6ffe7554"
      },
      "source": [
        "from keras.preprocessing import text, sequence\n",
        "from keras.preprocessing.text import Tokenizer\n",
        "from keras.preprocessing.sequence import pad_sequences\n",
        "from keras.utils import to_categorical\n",
        "\n",
        "max_length = 5000\n",
        "max_features = 20000\n",
        "embedding_dim = 300\n",
        "\n",
        "x_all = []\n",
        "x_all.extend(X_test)\n",
        "x_all.extend(X_train)\n",
        "\n",
        "tk = Tokenizer(num_words=max_features, lower=True, filters='\\n\\t')\n",
        "tk.fit_on_texts(x_all)\n",
        "x_train_seq = tk.texts_to_sequences(X_train)\n",
        "x_test_seq = tk.texts_to_sequences(X_test)\n",
        "\n",
        "np_x_train = pad_sequences(x_train_seq, maxlen=max_length,  padding='post')\n",
        "np_x_test = pad_sequences(x_test_seq, maxlen=max_length,  padding='post')\n",
        "np_y_train = to_categorical(y_train)\n",
        "\n",
        "class_num = np_y_train.shape[1]\n",
        "\n",
        "print ('np_x_train shape: {}'.format(np_x_train.shape))\n",
        "print ('np_x_test shape: {}'.format(np_x_test.shape))\n",
        "print ('np_y_train shape: {}'.format(np_y_train.shape))"
      ],
      "execution_count": 0,
      "outputs": [
        {
          "output_type": "stream",
          "text": [
            "np_x_train shape: (17474, 5000)\n",
            "np_x_test shape: (4369, 5000)\n",
            "np_y_train shape: (17474, 2)\n"
          ],
          "name": "stdout"
        }
      ]
    },
    {
      "cell_type": "code",
      "metadata": {
        "id": "QYHqGiw-98kH",
        "colab_type": "code",
        "colab": {},
        "outputId": "17d92506-9105-428d-a2a5-0a59c4dca83a"
      },
      "source": [
        "from keras.models import Model\n",
        "from keras.layers import *\n",
        "from keras.callbacks import EarlyStopping\n",
        "\n",
        "def one_input_classifier(max_length, max_features, embedding_dim, class_num):\n",
        "    inputs = Input(shape=(max_length,), name='input_1')\n",
        "    embeddings = Embedding(max_features, embedding_dim, input_length=max_length, name='embedding_1')(inputs)\n",
        "\n",
        "    conv_1 = Conv1D(32, 9, activation='relu', name='conv1d_1')(embeddings)\n",
        "    maxpool_1 = MaxPooling1D(16, name='maxpool1d_1')(conv_1)\n",
        "    dropout_1 = Dropout(0.2, name='dropout_1')(maxpool_1)\n",
        "\n",
        "    conv_2 = Conv1D(32, 7, activation='relu', name='conv1d_2')(dropout_1)\n",
        "    maxpool_2 = MaxPooling1D(8, name='maxpool1d_2')(conv_2)\n",
        "    dropout_2 = Dropout(0.2, name='dropout_2')(maxpool_2)\n",
        "\n",
        "    bilstm = Bidirectional(LSTM(32, dropout=0.2, recurrent_dropout=0.2, name='lstm_1'),\n",
        "        name='bidirectional_1')(dropout_2)\n",
        "    preds = Dense(class_num, activation='softmax', name='preds')(bilstm)\n",
        "\n",
        "    model = Model(inputs=inputs, outputs=preds)\n",
        "    model.compile(optimizer='adam', loss='categorical_crossentropy', metrics=['accuracy'])\n",
        "    return model\n",
        "\n",
        "early_stopping = EarlyStopping(monitor='val_loss', min_delta=0, patience=0, verbose=1,\n",
        "                               mode='min', baseline=None, restore_best_weights=True)\n",
        "\n",
        "models = []\n",
        "classifier_num = 10\n",
        "\n",
        "for i in range(classifier_num):\n",
        "    model = one_input_classifier(max_length, max_features, embedding_dim, class_num)\n",
        "\n",
        "    if i == 0:\n",
        "        print(model.summary())\n",
        "\n",
        "    model.fit(np_x_train, np_y_train, validation_split=0.3, shuffle=True,\n",
        "              callbacks=[early_stopping], epochs=10, batch_size=32, verbose=1)\n",
        "    models.append(model)"
      ],
      "execution_count": 0,
      "outputs": [
        {
          "output_type": "stream",
          "text": [
            "WARNING:tensorflow:From /Library/Frameworks/Python.framework/Versions/3.7/lib/python3.7/site-packages/tensorflow/python/framework/op_def_library.py:263: colocate_with (from tensorflow.python.framework.ops) is deprecated and will be removed in a future version.\n",
            "Instructions for updating:\n",
            "Colocations handled automatically by placer.\n",
            "WARNING:tensorflow:From /Library/Frameworks/Python.framework/Versions/3.7/lib/python3.7/site-packages/keras/backend/tensorflow_backend.py:3445: calling dropout (from tensorflow.python.ops.nn_ops) with keep_prob is deprecated and will be removed in a future version.\n",
            "Instructions for updating:\n",
            "Please use `rate` instead of `keep_prob`. Rate should be set to `rate = 1 - keep_prob`.\n",
            "_________________________________________________________________\n",
            "Layer (type)                 Output Shape              Param #   \n",
            "=================================================================\n",
            "input_1 (InputLayer)         (None, 5000)              0         \n",
            "_________________________________________________________________\n",
            "embedding_1 (Embedding)      (None, 5000, 300)         6000000   \n",
            "_________________________________________________________________\n",
            "conv1d_1 (Conv1D)            (None, 4992, 32)          86432     \n",
            "_________________________________________________________________\n",
            "maxpool1d_1 (MaxPooling1D)   (None, 312, 32)           0         \n",
            "_________________________________________________________________\n",
            "dropout_1 (Dropout)          (None, 312, 32)           0         \n",
            "_________________________________________________________________\n",
            "conv1d_2 (Conv1D)            (None, 306, 32)           7200      \n",
            "_________________________________________________________________\n",
            "maxpool1d_2 (MaxPooling1D)   (None, 38, 32)            0         \n",
            "_________________________________________________________________\n",
            "dropout_2 (Dropout)          (None, 38, 32)            0         \n",
            "_________________________________________________________________\n",
            "bidirectional_1 (Bidirection (None, 64)                16640     \n",
            "_________________________________________________________________\n",
            "preds (Dense)                (None, 2)                 130       \n",
            "=================================================================\n",
            "Total params: 6,110,402\n",
            "Trainable params: 6,110,402\n",
            "Non-trainable params: 0\n",
            "_________________________________________________________________\n",
            "None\n",
            "WARNING:tensorflow:From /Library/Frameworks/Python.framework/Versions/3.7/lib/python3.7/site-packages/tensorflow/python/ops/math_ops.py:3066: to_int32 (from tensorflow.python.ops.math_ops) is deprecated and will be removed in a future version.\n",
            "Instructions for updating:\n",
            "Use tf.cast instead.\n",
            "Train on 12231 samples, validate on 5243 samples\n",
            "Epoch 1/10\n",
            " 3808/12231 [========>.....................] - ETA: 48:39 - loss: 0.5964 - acc: 0.6838"
          ],
          "name": "stdout"
        }
      ]
    },
    {
      "cell_type": "code",
      "metadata": {
        "id": "K_LyTqwc98ki",
        "colab_type": "code",
        "colab": {}
      },
      "source": [
        ""
      ],
      "execution_count": 0,
      "outputs": []
    }
  ]
}